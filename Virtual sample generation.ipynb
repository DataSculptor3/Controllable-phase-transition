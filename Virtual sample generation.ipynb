{
 "cells": [
  {
   "cell_type": "code",
   "execution_count": 30,
   "metadata": {},
   "outputs": [
    {
     "name": "stdout",
     "output_type": "stream",
     "text": [
      "[248 153 110 122 259 165 242  68 224 250 246 234 223  83 172 240 165 166\n",
      " 105 171 172 193 191  53 159  50 138 201 178 244 156 115 158 211 212 105\n",
      " 106 178 231 246  80 161 148  88  70 243 142 163 215 171  97 207 142 170\n",
      "  88 129 256 179 241  72 255 194 121 209 123 250  59 188 259  95 158 107\n",
      " 252 171  50 252 155 170 173 191 140 259 156 159 168 246  84  75  67 174\n",
      " 146  98 184 137  69 115  79 259 182 247  50  50 114 120  87 209 150 113\n",
      " 104  84]\n"
     ]
    }
   ],
   "source": [
    "import numpy as np\n",
    "\n",
    "# 指定生成随机整数列表的长度和范围\n",
    "list_length = 110  # 列表长度\n",
    "min_value = 50     # 最小值（包括）\n",
    "max_value = 260   # 最大值（包括）\n",
    "\n",
    "# 使用NumPy生成随机整数列表\n",
    "P_integers = np.random.randint(min_value, max_value + 1, size=list_length)\n",
    "\n",
    "# 打印生成的随机整数列表\n",
    "print(P_integers)\n"
   ]
  },
  {
   "cell_type": "code",
   "execution_count": 31,
   "metadata": {},
   "outputs": [
    {
     "name": "stdout",
     "output_type": "stream",
     "text": [
      "[1519 1250 1192 1087 1739 1471 1296 1240  528 1843 1635 1691 1849 1685\n",
      " 1583 1307 1674 1707  939  660 1792 1577 1012  583 1008 1116 1862 1529\n",
      " 1848 1974  573 1478  846 1423 1201 1575  980 1202 1806  425 1075  379\n",
      " 1969  525 1772  532 1103  852 1469 1676 1006  957  775 1771 1350  670\n",
      " 1989 1866  833 1880 1902 1016 1310  792 1890  747 1994  864  541 1450\n",
      " 1080  636 1741  952  436 1590 1767 1510  696  677  926 1584  560  936\n",
      "  935  766 1551  799 1838 1474 1295  334 1310  641 1225 1261 1178  650\n",
      "  525 1666 1511  907  780 1530 1051  797 1382  314  647 1138]\n"
     ]
    }
   ],
   "source": [
    "import numpy as np\n",
    "\n",
    "# 指定生成随机整数列表的长度和范围\n",
    "list_length = 110  # 列表长度\n",
    "min_value = 300     # 最小值（包括）\n",
    "max_value = 2000   # 最大值（包括）\n",
    "\n",
    "# 使用NumPy生成随机整数列表\n",
    "V_integers = np.random.randint(min_value, max_value + 1, size=list_length)\n",
    "\n",
    "# 打印生成的随机整数列表\n",
    "print(V_integers)\n"
   ]
  },
  {
   "cell_type": "code",
   "execution_count": 32,
   "metadata": {},
   "outputs": [
    {
     "name": "stdout",
     "output_type": "stream",
     "text": [
      "110\n"
     ]
    }
   ],
   "source": [
    "import numpy as np\n",
    "\n",
    "# 指定生成随机整数列表的长度和范围\n",
    "list_length = 110  # 列表长度\n",
    "min_value = 60     # 最小值（包括）\n",
    "max_value = 200   # 最大值（包括）\n",
    "\n",
    "# 使用NumPy生成随机整数列表\n",
    "h_integers = np.random.randint(min_value, max_value + 1, size=list_length)\n",
    "\n",
    "# 打印生成的随机整数列表\n",
    "print(len(h_integers))\n"
   ]
  },
  {
   "cell_type": "code",
   "execution_count": 33,
   "metadata": {},
   "outputs": [
    {
     "name": "stdout",
     "output_type": "stream",
     "text": [
      "110\n"
     ]
    }
   ],
   "source": [
    "import numpy as np\n",
    "\n",
    "# 创建一个示例数组\n",
    "my_array = np.array([20, 30, 40, 50, 30]*22)\n",
    "\n",
    "\n",
    "# 随机打乱数组顺序（返回一个新的数组）\n",
    "t_array = np.random.permutation(my_array)\n",
    "\n",
    "# 打印打乱后的数组\n",
    "print(len(t_array))\n"
   ]
  },
  {
   "cell_type": "code",
   "execution_count": 34,
   "metadata": {},
   "outputs": [
    {
     "name": "stdout",
     "output_type": "stream",
     "text": [
      "<class 'numpy.ndarray'>\n"
     ]
    }
   ],
   "source": [
    "LED_array = P_integers / V_integers\n",
    "LED_array = np.array(LED_array.round(2))\n",
    "\n",
    "SED_array = P_integers / ( V_integers *h_integers * 0.001 )\n",
    "SED_array = np.array(SED_array.round(2))\n",
    "\n",
    "VED_array = P_integers / ( V_integers * h_integers * t_array * 0.001 * 0.001)\n",
    "VED_array = np.array(VED_array.round(2))\n",
    "print(type(VED_array))"
   ]
  },
  {
   "cell_type": "code",
   "execution_count": 35,
   "metadata": {},
   "outputs": [
    {
     "data": {
      "text/plain": [
       "array([45.2, 50.3, 50.8, 50.8, 50.6, 50.8, 51. , 51. , 45.2, 50.6, 50.3,\n",
       "       50.9, 50.6, 50.8, 51. , 50.3, 51. , 51. , 50.3, 50.7, 51.1, 50.7,\n",
       "       51.1, 50.3, 50.8, 51. , 45.2, 50.7, 50.6, 51.1, 50.8, 50.6, 50.8,\n",
       "       45.2, 50.3, 50.8, 51. , 51.1, 50.7, 50.7, 50.7, 50.9, 51. , 50.8,\n",
       "       51. , 50.7, 50.9, 51. , 50.7, 50.7, 51.1, 50.8, 50.7, 50.8, 50.6,\n",
       "       50.8, 50.3, 51.1, 50.3, 50.7, 51. , 50.6, 50.8, 50.9, 45.2, 50.3,\n",
       "       51. , 50.7, 51.1, 51.1, 50.6, 45.2, 50.8, 51. , 50.3, 50.9, 50.8,\n",
       "       51. , 50.7, 50.8, 50.9, 51. , 50.8, 50.8, 50.7, 50.7, 45.2, 51. ,\n",
       "       45.2, 50.7, 50.6, 51.1, 51. , 50.9, 50.8, 50.7, 50.7, 50.8, 45.2,\n",
       "       50.9, 51.1, 50.9, 51. , 50.7, 50.9, 45.2, 50.6, 51. , 51. , 50.7])"
      ]
     },
     "execution_count": 35,
     "metadata": {},
     "output_type": "execute_result"
    }
   ],
   "source": [
    "my_array = np.array([[50.80, 49.20, 15, 53, 19.40, 36.00, 57.60],\n",
    "                     [50.60, 49.40, 20, 55, 20.10, 33.80, 54.30],\n",
    "                     [51.00, 49.00, 20, 56, 20.26, 34.57, 55.31],\n",
    "                     [50.30, 49.70, 16, 40, 16.00, 29.00, 40.00],\n",
    "                     [51.10, 48.90, 16, 40, 16.00, 29.00, 40.00],\n",
    "                     [50.70, 49.30, 10, 40, 15.00, 28.40, 46.90],\n",
    "                     [45.20, 54.80, 20, 50, 12.00, 25.00, 40.00],\n",
    "                     [50.90, 49.10, 5, 50, 22.20, 36.80, 58.10],\n",
    "                     [50.70, 49.30, 10, 50, 21.90, 33.60, 49.80],\n",
    "                     [50.80, 49.20, 25, 75, 19.40, 36.00, 57.60],\n",
    "                     [51.00, 49.00, 10, 60, 21.08, 37.13, 51.70]]*10)\n",
    "Fenmo_array = np.random.permutation(my_array)\n",
    "Fenmo_array[:,0]"
   ]
  },
  {
   "cell_type": "code",
   "execution_count": 36,
   "metadata": {},
   "outputs": [],
   "source": [
    "import math\n",
    "Ni_mol_array = Fenmo_array[:,0]/58.9/(Fenmo_array[:,0]/58.9 +Fenmo_array[:,1]/47.87)\n",
    "Ni_mol_array = Ni_mol_array.round(5)\n",
    "\n",
    "Ti_mol_array = Fenmo_array[:,1]/47.87/(Fenmo_array[:,0]/58.9 +Fenmo_array[:,1]/47.87)\n",
    "Ti_mol_array = Ti_mol_array.round(5)\n",
    "\n",
    "ar_array = Ni_mol_array * 1.24 + Ti_mol_array * 1.47\n",
    "ard_1_array = 1.24 / ar_array\n",
    "ard_2_array = 1.47 / ar_array\n",
    "\n",
    "ard_array = []\n",
    "for i in range(len(ar_array)):\n",
    "    tmp = 100 * math.sqrt(Ni_mol_array[i] * (1 - ard_1_array[i])**2 + Ti_mol_array[i] * (1 - ard_2_array[i])**2)\n",
    "    ard_array.append(tmp)\n",
    "ard_array = np.array(ard_array)\n",
    "ard_array = ard_array.round(5)\n",
    "\n",
    "eom_array = []\n",
    "for i in range(len(Ni_mol_array)):\n",
    "    tmp = -8.314 *(math.log(Ni_mol_array[i])*Ni_mol_array[i] + math.log(Ti_mol_array[i]) * Ti_mol_array[i])\n",
    "    eom_array.append(tmp)\n",
    "eom_array = np.array(eom_array)\n",
    "eom_array = eom_array.round(5)\n",
    "\n",
    "e_array = []\n",
    "for i in range(len(Ni_mol_array)):\n",
    "    tmp = math.sqrt(Ni_mol_array[i] * (1.91 - (Ni_mol_array[i]*1.91 + Ti_mol_array[i]*1.54))**2 + Ti_mol_array[i] * (1.54 - (Ti_mol_array[i]*1.54 + Ni_mol_array[i]*1.91))**2)\n",
    "    e_array.append(tmp)\n",
    "e_array = np.array(e_array)\n",
    "e_array = e_array.round(5)\n",
    "\n",
    "tm_array = 1453 * Ni_mol_array + 1670 * Ti_mol_array\n",
    "tm_array = tm_array.round(2)\n",
    "\n",
    "em_array = -35*4*Ni_mol_array*Ti_mol_array\n",
    "em_array = em_array.round(2)\n",
    "\n",
    "gf_array = []\n",
    "for i in range(len(eom_array)):\n",
    "    tmp = eom_array[i] * tm_array[i] * abs(em_array[i])\n",
    "    gf_array.append(tmp)\n",
    "gf_array = np.array(gf_array)\n",
    "gf_array = gf_array.round(2)\n",
    "\n",
    "pgf_array = gf_array / (ard_array**2)\n",
    "\n",
    "vec_array = Ni_mol_array * 10 + Ti_mol_array * 4"
   ]
  },
  {
   "cell_type": "code",
   "execution_count": 37,
   "metadata": {},
   "outputs": [],
   "source": [
    "data = np.column_stack((P_integers.reshape(-1,1), \n",
    "                    V_integers.reshape(-1, 1), \n",
    "                    h_integers.reshape(-1, 1), \n",
    "                    t_array.reshape(-1, 1), \n",
    "                    LED_array.reshape(-1, 1),\n",
    "                    SED_array.reshape(-1, 1),\n",
    "                    VED_array.reshape(-1, 1),\n",
    "                    Fenmo_array.reshape(-1, 7),\n",
    "                    Ni_mol_array.reshape(-1, 1),\n",
    "                    Ti_mol_array.reshape(-1, 1),\n",
    "                    ar_array.reshape(-1, 1),\n",
    "                    ard_1_array.reshape(-1, 1),\n",
    "                    ard_2_array.reshape(-1, 1),\n",
    "                    ard_array.reshape(-1, 1),\n",
    "                    eom_array.reshape(-1, 1),\n",
    "                    e_array.reshape(-1, 1),\n",
    "                    tm_array.reshape(-1, 1),\n",
    "                    em_array.reshape(-1, 1),\n",
    "                    gf_array.reshape(-1, 1),\n",
    "                    pgf_array.reshape(-1, 1),\n",
    "                    vec_array.reshape(-1, 1)))\n",
    "\n",
    "                    \n",
    "                    \n",
    "                    \n",
    "                    \n"
   ]
  },
  {
   "cell_type": "code",
   "execution_count": 38,
   "metadata": {},
   "outputs": [],
   "source": [
    "import numpy as np\n",
    "import pandas as pd\n",
    "\n",
    "# 准备数据\n",
    "\n",
    "data_df = pd.DataFrame(data)   #关键1，将ndarray格式转换为DataFrame\n",
    "\n",
    "# # 更改表的索引\n",
    "# data_df.columns = ['A','B','C','D','E','F','G','H','I','J']  #将第一行的0,1,2,...,9变成A,B,C,...,J\n",
    "# data_df.index = ['a','b','c','d','e','f','g','h','i','j']\n",
    "\n",
    "# 将文件写入excel表格中\n",
    "writer = pd.ExcelWriter('virtual_samples.xlsx')  #关键2，创建名称为hhh的excel表格\n",
    "data_df.to_excel(writer,'page_1',float_format='%.5f')  #关键3，float_format 控制精度，将data_df写到hhh表格的第一页中。若多个文件，可以在page_2中写入\n",
    "writer.save()  #关键4\n"
   ]
  }
 ],
 "metadata": {
  "kernelspec": {
   "display_name": "ML",
   "language": "python",
   "name": "python3"
  },
  "language_info": {
   "codemirror_mode": {
    "name": "ipython",
    "version": 3
   },
   "file_extension": ".py",
   "mimetype": "text/x-python",
   "name": "python",
   "nbconvert_exporter": "python",
   "pygments_lexer": "ipython3",
   "version": "3.7.13"
  },
  "orig_nbformat": 4
 },
 "nbformat": 4,
 "nbformat_minor": 2
}
